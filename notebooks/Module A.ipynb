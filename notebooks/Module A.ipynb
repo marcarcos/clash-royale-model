{
 "cells": [
  {
   "cell_type": "code",
   "execution_count": 22,
   "id": "b0e429a8-46e6-4c2c-84c2-9c5578f8f0e2",
   "metadata": {},
   "outputs": [
    {
     "name": "stdout",
     "output_type": "stream",
     "text": [
      "a: tensor([1., 2., 3.])\n",
      "b:\n",
      " tensor([[0, 1],\n",
      "        [2, 3]])\n",
      "c: tensor([3., 4., 5.])\n",
      "d:\n",
      " tensor([[0, 1],\n",
      "        [4, 9]])\n",
      "e:\n",
      " tensor([[ 2,  3],\n",
      "        [ 6, 11]])\n",
      "f:\n",
      " tensor([[0, 1],\n",
      "        [2, 3]])\n",
      "b == f:\n",
      " tensor([[True, True],\n",
      "        [True, True]])\n"
     ]
    }
   ],
   "source": [
    "import torch\n",
    "\n",
    "# Force CPU for safety\n",
    "device = torch.device(\"cpu\")\n",
    "\n",
    "# A1 Example\n",
    "\n",
    "# Create tensors\n",
    "a = torch.tensor([1.0, 2.0, 3.0]).to(device)\n",
    "b = torch.tensor([[0, 1], [2, 3]]).to(device)\n",
    "\n",
    "# Basic operations\n",
    "c = a + 2               # elementwise add\n",
    "d = b * b               # elementwise multiply\n",
    "e = torch.matmul(b, b)  # matrix multiply\n",
    "\n",
    "f = torch.arange(4).reshape([2,2]).to(device)\n",
    "\n",
    "print(\"a:\", a)\n",
    "print(\"b:\\n\", b)\n",
    "print(\"c:\", c)\n",
    "print(\"d:\\n\", d)\n",
    "print(\"e:\\n\", e)\n",
    "print(\"f:\\n\", f) \n",
    "print('b == f:\\n', b == f)"
   ]
  },
  {
   "cell_type": "code",
   "execution_count": 29,
   "id": "9581a37f-b328-4c09-9a09-d1b9f201d454",
   "metadata": {},
   "outputs": [
    {
     "name": "stdout",
     "output_type": "stream",
     "text": [
      "x:\n",
      " tensor([[0.7244, 0.2596, 0.2591],\n",
      "        [0.1303, 0.6867, 0.4001],\n",
      "        [0.8548, 0.4090, 0.0654]])\n",
      "\n",
      "x_inv:\n",
      " tensor([[ 0.8619, -0.6463,  0.5379],\n",
      "        [-2.4216,  1.2645,  1.8595],\n",
      "        [ 3.8758,  0.5397, -3.3668]])\n",
      "\n",
      "x @ x_inv:\n",
      " tensor([[ 1.0000e+00,  2.6772e-08,  2.7783e-08],\n",
      "        [ 1.4471e-08,  1.0000e+00,  6.8511e-08],\n",
      "        [-5.9605e-08,  5.2154e-08,  1.0000e+00]])\n"
     ]
    }
   ],
   "source": [
    "# A1 Problem\n",
    "\n",
    "# 1) Create a random 3×3 matrix\n",
    "x = torch.rand(9).reshape(3, 3)   # same as torch.rand(3,3)\n",
    "\n",
    "# 2) Invert it\n",
    "x_inv = torch.linalg.inv(x)   # equivalent to torch.inverse(x)\n",
    "\n",
    "# 3) Verify the result is (approximately) the identity\n",
    "I_approx = x @ x_inv\n",
    "\n",
    "print(\"x:\\n\", x)\n",
    "print(\"\\nx_inv:\\n\", x_inv)\n",
    "print(\"\\nx @ x_inv:\\n\", I_approx)"
   ]
  },
  {
   "cell_type": "code",
   "execution_count": 51,
   "id": "754e8ee3-ccfa-4cf9-bf60-625496a81d45",
   "metadata": {},
   "outputs": [
    {
     "name": "stdout",
     "output_type": "stream",
     "text": [
      "22.375 15.75\n"
     ]
    }
   ],
   "source": [
    "# A2 Example\n",
    "\n",
    "x = torch.tensor(1.5, requires_grad = True)\n",
    "\n",
    "y = x**3 + 2*(x**2) + 3*x + 10\n",
    "\n",
    "y.backward()\n",
    "\n",
    "print(y.item(), x.grad.item())"
   ]
  },
  {
   "cell_type": "code",
   "execution_count": 65,
   "id": "5bc479ce-110e-4754-bfa1-c32e7ee4b5a2",
   "metadata": {},
   "outputs": [
    {
     "name": "stdout",
     "output_type": "stream",
     "text": [
      "tensor([12.0000,  3.0100])\n"
     ]
    }
   ],
   "source": [
    "# A2 Problem\n",
    "\n",
    "v = torch.tensor([2.0, 3.0], requires_grad=True)\n",
    "x, y = v\n",
    "function = x**2 * y + torch.sin(y)\n",
    "\n",
    "function.backward() \n",
    "\n",
    "print(v.grad)"
   ]
  },
  {
   "cell_type": "code",
   "execution_count": 84,
   "id": "fe06c0a0-1cdf-4eb8-bb3d-50bb68462055",
   "metadata": {},
   "outputs": [
    {
     "name": "stdout",
     "output_type": "stream",
     "text": [
      "Logits: tensor([[ 0.3384,  0.0377, -0.4855, -0.0811],\n",
      "        [ 0.3641, -0.7139,  0.0149, -0.5664],\n",
      "        [ 0.4810,  0.2774,  0.0405,  0.2808],\n",
      "        [ 0.5453, -0.0099,  0.1290, -0.1713],\n",
      "        [ 0.0178, -0.0374, -0.2701, -0.1868]], grad_fn=<AddmmBackward0>)\n",
      "Loss: 1.328674554824829\n",
      "Gradient of fc1 weights: tensor(0.4944)\n",
      "tensor([3, 2, 2, 0, 1])\n"
     ]
    }
   ],
   "source": [
    "import torch.nn as nn\n",
    "import torch.nn.functional as F\n",
    "\n",
    "# A3 Example\n",
    "\n",
    "# 1) Define the model\n",
    "class SimpleNet(nn.Module):\n",
    "    def __init__(self, input_dim, hidden_dim, output_dim):\n",
    "        super().__init__()\n",
    "        self.fc1 = nn.Linear(input_dim, hidden_dim)\n",
    "        self.dropout = nn.Dropout(p=0.5)\n",
    "        self.fc2 = nn.Linear(hidden_dim, output_dim)\n",
    "\n",
    "    def forward(self, x):\n",
    "        x = F.relu(self.fc1(x))\n",
    "        x = self.dropout(x)\n",
    "        return self.fc2(x)\n",
    "\n",
    "# 2) Instantiate and move to device\n",
    "device = torch.device(\"cpu\")\n",
    "model = SimpleNet(input_dim=10, hidden_dim=32, output_dim=4).to(device)\n",
    "\n",
    "# 3) Create dummy data\n",
    "batch_size = 5\n",
    "dummy_inputs = torch.randn(batch_size, 10).to(device)\n",
    "dummy_targets = torch.randint(0, 4, (batch_size,)).to(device)\n",
    "\n",
    "# 4) Forward pass\n",
    "logits = model(dummy_inputs)    # shape (5, 4)\n",
    "print(\"Logits:\", logits)\n",
    "\n",
    "# 5) Compute loss\n",
    "criterion = nn.CrossEntropyLoss()\n",
    "loss = criterion(logits, dummy_targets)\n",
    "print(\"Loss:\", loss.item())\n",
    "\n",
    "# 6) Backward pass\n",
    "model.zero_grad()\n",
    "loss.backward()\n",
    "\n",
    "# 7) Inspect a gradient\n",
    "print(\"Gradient of fc1 weights:\", model.fc1.weight.grad.norm())\n",
    "print(dummy_targets)"
   ]
  },
  {
   "cell_type": "code",
   "execution_count": 75,
   "id": "3cfff4f6-7a74-486d-b53a-c4840887fdb1",
   "metadata": {},
   "outputs": [
    {
     "name": "stdout",
     "output_type": "stream",
     "text": [
      "torch.Size([5, 10])\n",
      "torch.Size([5, 32])\n",
      "torch.Size([5, 32])\n",
      "torch.Size([5, 4])\n"
     ]
    }
   ],
   "source": [
    "# dummy_inputs: shape (5, 10)\n",
    "print(dummy_inputs.shape)  # → torch.Size([5, 10])\n",
    "\n",
    "# After passing through fc1 (10 → 32)\n",
    "h = model.fc1(dummy_inputs)\n",
    "print(h.shape)             # → torch.Size([5, 32])\n",
    "\n",
    "# After ReLU + Dropout (still batch‑first)\n",
    "h2 = model.dropout(F.relu(h))\n",
    "print(h2.shape)            # → torch.Size([5, 32])\n",
    "\n",
    "# Final logits (32 → 4)\n",
    "logits = model.fc2(h2)\n",
    "print(logits.shape)        # → torch.Size([5, 4])"
   ]
  },
  {
   "cell_type": "code",
   "execution_count": 83,
   "id": "bab74ea5-2fee-4bdb-8f31-720f65023609",
   "metadata": {},
   "outputs": [
    {
     "data": {
      "text/plain": [
       "tensor([[-3.9840e-01, -7.0132e-01,  7.1361e-01,  6.0968e-01,  5.0306e-01,\n",
       "          3.2268e-01, -1.9605e-01, -7.8206e-01,  3.7857e-01,  1.1249e+00,\n",
       "          6.4447e-01,  1.3358e-01,  1.4694e-01, -7.9410e-01,  1.2440e-01,\n",
       "          2.9275e-01,  2.6654e-01, -2.9871e-01,  1.7400e+00, -5.7731e-01,\n",
       "         -2.4781e-02,  1.1566e+00,  1.9961e-01, -5.9584e-01,  1.2809e-02,\n",
       "         -4.8069e-01, -3.6243e-01,  1.2256e+00,  8.9545e-03, -1.9665e-01,\n",
       "         -9.0764e-01,  5.7992e-01],\n",
       "        [ 1.4939e+00,  1.1682e+00,  2.3110e+00,  6.5694e-01,  8.8104e-01,\n",
       "          3.9764e+00,  3.3569e+00,  2.4463e+00,  1.3139e+00,  3.2352e+00,\n",
       "          2.0776e+00,  2.0589e+00,  3.2217e+00,  2.6365e+00,  3.3993e+00,\n",
       "          2.0104e+00,  2.0942e+00,  1.3410e+00,  2.5867e+00,  2.6264e+00,\n",
       "          3.2745e+00,  1.9748e+00,  2.4068e+00,  1.4588e+00,  1.6310e+00,\n",
       "          1.9032e+00,  2.3281e+00,  1.6131e+00,  3.0122e+00,  1.6729e+00,\n",
       "          1.6592e+00,  7.8077e-01],\n",
       "        [-8.7182e-01,  4.0196e-01, -1.0942e+00, -4.7438e-01, -4.9565e-01,\n",
       "          1.7446e-01, -7.7519e-01,  8.9989e-04, -8.5572e-01, -5.8741e-01,\n",
       "          6.2993e-01,  2.6708e-01, -7.9452e-02,  1.3710e+00,  1.8544e-01,\n",
       "         -4.3674e-01, -6.9072e-01,  2.1660e-01, -1.0217e+00, -9.8983e-02,\n",
       "          2.9837e-01, -1.3328e+00, -1.9079e-01, -2.5340e-01, -4.0804e-01,\n",
       "         -6.9832e-02,  5.7673e-01, -1.2626e+00, -1.5125e-01,  1.7605e-01,\n",
       "          5.8623e-01, -5.4625e-02],\n",
       "        [-1.9012e+00, -5.8678e-01, -1.5127e+00, -1.2423e-01, -3.6085e-01,\n",
       "         -1.1664e+00, -2.4015e+00, -1.7027e+00, -9.7102e-01, -9.1081e-01,\n",
       "          5.3412e-01, -3.8502e-01, -1.3143e+00, -1.7801e-01, -1.0351e+00,\n",
       "         -1.1181e+00, -1.2238e+00, -4.2504e-01, -6.2393e-01, -1.6618e+00,\n",
       "         -9.7748e-01, -1.2109e+00, -9.6545e-01, -1.3143e+00, -9.8879e-01,\n",
       "         -1.2155e+00, -5.2691e-01, -8.0390e-01, -1.3759e+00, -5.6088e-01,\n",
       "         -9.0168e-01,  2.3771e-01],\n",
       "        [ 1.3572e-01,  2.7205e-01,  1.3642e+00,  6.5697e-01,  6.6313e-01,\n",
       "          2.3680e+00,  1.4219e+00,  5.6922e-01,  7.1973e-01,  2.5570e+00,\n",
       "          1.9282e+00,  1.3153e+00,  1.9088e+00,  1.2771e+00,  1.9071e+00,\n",
       "          1.0417e+00,  1.1674e+00,  6.3544e-01,  2.4588e+00,  7.5468e-01,\n",
       "          1.6824e+00,  1.6151e+00,  1.3999e+00,  1.1466e-01,  6.0158e-01,\n",
       "          4.6458e-01,  9.7377e-01,  1.3999e+00,  1.4737e+00,  8.2868e-01,\n",
       "          2.1200e-01,  8.3926e-01]])"
      ]
     },
     "execution_count": 83,
     "metadata": {},
     "output_type": "execute_result"
    }
   ],
   "source": [
    "x = torch.randn(5, 5).to(device)\n",
    "y = torch.rand(5, 32).to(device)\n",
    "x @ y"
   ]
  },
  {
   "cell_type": "code",
   "execution_count": null,
   "id": "76747d97-6421-4f2b-bdbb-2d9572842362",
   "metadata": {},
   "outputs": [],
   "source": []
  },
  {
   "cell_type": "code",
   "execution_count": null,
   "id": "cc49d5a7-3492-46d7-a3d7-7a82a55d3912",
   "metadata": {},
   "outputs": [],
   "source": []
  },
  {
   "cell_type": "code",
   "execution_count": null,
   "id": "3aa22f76-a587-4a52-bd97-83898663b243",
   "metadata": {},
   "outputs": [],
   "source": []
  },
  {
   "cell_type": "code",
   "execution_count": null,
   "id": "f5aa09ce-4f19-482d-89c6-109bcd0c3d12",
   "metadata": {},
   "outputs": [],
   "source": []
  }
 ],
 "metadata": {
  "kernelspec": {
   "display_name": "Python 3 (ipykernel)",
   "language": "python",
   "name": "python3"
  },
  "language_info": {
   "codemirror_mode": {
    "name": "ipython",
    "version": 3
   },
   "file_extension": ".py",
   "mimetype": "text/x-python",
   "name": "python",
   "nbconvert_exporter": "python",
   "pygments_lexer": "ipython3",
   "version": "3.11.13"
  }
 },
 "nbformat": 4,
 "nbformat_minor": 5
}
